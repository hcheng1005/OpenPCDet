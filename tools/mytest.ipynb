{
 "cells": [
  {
   "cell_type": "code",
   "execution_count": 1,
   "metadata": {},
   "outputs": [
    {
     "name": "stdout",
     "output_type": "stream",
     "text": [
      "Test(\n",
      "  (blocks): ModuleList(\n",
      "    (0): Sequential(\n",
      "      (0): ZeroPad2d(padding=(1, 1, 1, 1), value=0.0)\n",
      "      (1): Conv2d(64, 64, kernel_size=(3, 3), stride=(2, 2), bias=False)\n",
      "      (2): BatchNorm2d(64, eps=0.001, momentum=0.01, affine=True, track_running_stats=True)\n",
      "      (3): ReLU()\n",
      "      (4): Conv2d(64, 64, kernel_size=(3, 3), stride=(1, 1), padding=(1, 1), bias=False)\n",
      "      (5): BatchNorm2d(64, eps=0.001, momentum=0.01, affine=True, track_running_stats=True)\n",
      "      (6): ReLU()\n",
      "      (7): Conv2d(64, 64, kernel_size=(3, 3), stride=(1, 1), padding=(1, 1), bias=False)\n",
      "      (8): BatchNorm2d(64, eps=0.001, momentum=0.01, affine=True, track_running_stats=True)\n",
      "      (9): ReLU()\n",
      "      (10): Conv2d(64, 64, kernel_size=(3, 3), stride=(1, 1), padding=(1, 1), bias=False)\n",
      "      (11): BatchNorm2d(64, eps=0.001, momentum=0.01, affine=True, track_running_stats=True)\n",
      "      (12): ReLU()\n",
      "    )\n",
      "  )\n",
      ")\n",
      "torch.Size([1, 64, 496, 432])\n",
      "torch.Size([1, 64, 248, 216])\n"
     ]
    }
   ],
   "source": [
    "import numpy as np\n",
    "import torch\n",
    "import torch.nn as nn\n",
    "\n",
    "    # BACKBONE_2D:\n",
    "    #     NAME: BaseBEVBackbone\n",
    "    #     LAYER_NUMS: [3, 5, 5]\n",
    "    #     LAYER_STRIDES: [2, 2, 2]\n",
    "    #     NUM_FILTERS: [64, 128, 256]\n",
    "    #     UPSAMPLE_STRIDES: [1, 2, 4]\n",
    "    #     NUM_UPSAMPLE_FILTERS: [128, 128, 128]\n",
    "    \n",
    "class Test(nn.Module):  #创建一个Test类，继承nn.Module\n",
    "    def __init__(self):\n",
    "        super(Test, self).__init__()    #完成父类的初始化\n",
    "        cur_layers = [nn.ZeroPad2d(1),\n",
    "                nn.Conv2d(64, 64, kernel_size=3,stride=2, padding=0, bias=False),\n",
    "                nn.BatchNorm2d(64, eps=1e-3, momentum=0.01),\n",
    "                nn.ReLU()]\n",
    "        \n",
    "        for k in range(3):\n",
    "            cur_layers.extend([\n",
    "                nn.Conv2d(64, 64, kernel_size=3, padding=1, bias=False),\n",
    "                nn.BatchNorm2d(64, eps=1e-3, momentum=0.01),\n",
    "                nn.ReLU()])\n",
    "            \n",
    "        self.blocks = nn.ModuleList() \n",
    "        self.blocks.append(nn.Sequential(*cur_layers))\n",
    "        \n",
    "    def forward(self, x):\n",
    "        x = self.blocks[0](x)\n",
    "        return (x)\n",
    "\n",
    "demo_net = Test()  \n",
    "print(demo_net)\n",
    "\n",
    "input_ = torch.randn(1,64,496,432)\n",
    "print(input_.shape)\n",
    "output_ = demo_net(input_)\n",
    "print(output_.shape)"
   ]
  }
 ],
 "metadata": {
  "kernelspec": {
   "display_name": "base",
   "language": "python",
   "name": "python3"
  },
  "language_info": {
   "codemirror_mode": {
    "name": "ipython",
    "version": 3
   },
   "file_extension": ".py",
   "mimetype": "text/x-python",
   "name": "python",
   "nbconvert_exporter": "python",
   "pygments_lexer": "ipython3",
   "version": "3.9.7"
  },
  "orig_nbformat": 4
 },
 "nbformat": 4,
 "nbformat_minor": 2
}

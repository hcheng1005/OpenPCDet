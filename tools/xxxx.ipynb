{
 "cells": [
  {
   "cell_type": "code",
   "execution_count": 1,
   "metadata": {},
   "outputs": [],
   "source": [
    "import numpy as np\n",
    "\n",
    "def get_calib_from_file(calib_file):\n",
    "    with open(calib_file) as f:\n",
    "        lines = f.readlines()\n",
    "    #修改3 改转换矩阵\n",
    "    obj = lines[0].strip().split(' ')[1:]\n",
    "    P2 = np.array(obj, dtype=np.float32)\n",
    "    obj = lines[1].strip().split(' ')[1:]\n",
    "    R0 = np.array(obj, dtype=np.float32)\n",
    "    obj = lines[2].strip().split(' ')[1:]\n",
    "    Tr_velo_to_cam = np.array(obj, dtype=np.float32)\n",
    "    obj = lines[3].strip().split(' ')[1:]\n",
    "    Tr_arbe_to_velo = np.array(obj, dtype=np.float32)\n",
    "    obj = lines[4].strip().split(' ')[1:]\n",
    "    Tr_ars_to_velo = np.array(obj, dtype=np.float32)\n",
    "    \n",
    "    obj = lines[5].strip().split(' ')[1:]\n",
    "    Tr_arbe_to_cam = np.array(obj, dtype=np.float32)\n",
    "    \n",
    "    obj = lines[6].strip().split(' ')[1:]\n",
    "    Tr_ars_to_cam = np.array(obj, dtype=np.float32)\n",
    "\n",
    "    return {'P2': P2.reshape(3, 4),\n",
    "            'Tr_arbe2velo': Tr_arbe_to_velo.reshape(3, 4),\n",
    "            'Tr_ars2velo': Tr_ars_to_velo.reshape(3, 4),\n",
    "            'R0': R0.reshape(3, 3),\n",
    "            'Tr_velo2cam': Tr_velo_to_cam.reshape(3, 4),\n",
    "            'Tr_arbe_to_cam': Tr_arbe_to_cam.reshape(3, 4),\n",
    "            'Tr_ars_to_cam': Tr_ars_to_cam.reshape(3, 4)}"
   ]
  },
  {
   "cell_type": "code",
   "execution_count": 13,
   "metadata": {},
   "outputs": [
    {
     "name": "stdout",
     "output_type": "stream",
     "text": [
      "[[ 0.9987243   0.05038508  0.00333414 -0.20633236]\n",
      " [ 0.00245314  0.01753711 -0.9998432  -1.5064962 ]\n",
      " [-0.05043566  0.99857587  0.01739114 -1.9114609 ]\n",
      " [ 0.          0.          0.          1.        ]]\n",
      "[[1.0642340e+03 0.0000000e+00 9.7494507e+02 0.0000000e+00]\n",
      " [0.0000000e+00 1.0657657e+03 6.1047357e+02 0.0000000e+00]\n",
      " [0.0000000e+00 0.0000000e+00 1.0000000e+00 0.0000000e+00]]\n",
      "[[ 1.0661270e+03 -9.7218146e+02 -3.6719940e+01]\n",
      " [ 5.5734100e+01 -5.9168738e+02  1.0748647e+03]\n",
      " [ 3.3341418e-03 -9.9984318e-01  1.7391138e-02]]\n",
      "[[[ 1.0661270e+03 -9.7218146e+02 -3.6719940e+01]\n",
      "  [ 5.5734100e+01 -5.9168738e+02  1.0748647e+03]\n",
      "  [ 3.3341418e-03 -9.9984318e-01  1.7391138e-02]]]\n"
     ]
    }
   ],
   "source": [
    "calib_ = get_calib_from_file('/root/code/OpenPCDet/data/dual_radar/radar_arbe/training/calib/000000.txt')\n",
    "# print(calib_)\n",
    "\n",
    "P2 = calib_['P2']  # 3 x 4\n",
    "R0 = calib_['R0']  # 3 x 3\n",
    "V2C = calib_['Tr_velo2cam']  # 3 x 4\n",
    "#修改4 增加毫米波的转换矩阵\n",
    "ARBE2V = calib_['Tr_arbe2velo'] # 3 x4\n",
    "ARS2V = calib_['Tr_ars2velo'] # 3 * 4_\n",
    "ARBE2C = calib_['Tr_arbe_to_cam'] # 3 x4\n",
    "ARS2C = calib_['Tr_ars_to_cam'] # 3 * 4_\n",
    "\n",
    "sensor2camera_r = ARBE2C[:3,:3]\n",
    "sensor2camera_t = ARBE2C[:3, 3:4]\n",
    "camera2sensor = np.eye(4).astype(np.float32)\n",
    "camera2sensor[:3, :3] = sensor2camera_r.T\n",
    "camera2sensor[3, :3] = -sensor2camera_t.reshape([1,3])\n",
    "print(camera2sensor.T)\n",
    "\n",
    "P2 = np.concatenate([P2, np.array([[0., 0., 0., 1.]])], axis=0)\n",
    "print(P2)\n",
    "\n",
    "\n",
    "arbe2image = P2 @ ARBE2C.T\n",
    "print(arbe2image)\n",
    "print(arbe2image.reshape([1,3,3]))"
   ]
  }
 ],
 "metadata": {
  "kernelspec": {
   "display_name": "base",
   "language": "python",
   "name": "python3"
  },
  "language_info": {
   "codemirror_mode": {
    "name": "ipython",
    "version": 3
   },
   "file_extension": ".py",
   "mimetype": "text/x-python",
   "name": "python",
   "nbconvert_exporter": "python",
   "pygments_lexer": "ipython3",
   "version": "3.8.10"
  }
 },
 "nbformat": 4,
 "nbformat_minor": 2
}
